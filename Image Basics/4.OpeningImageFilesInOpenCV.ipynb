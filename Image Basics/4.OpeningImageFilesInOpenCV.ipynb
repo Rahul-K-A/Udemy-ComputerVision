{
 "cells": [
  {
   "cell_type": "code",
   "execution_count": 1,
   "metadata": {},
   "outputs": [],
   "source": [
    "import cv2\n",
    "img=cv2.imread('Data/Puppy.jpg')\n",
    "#It waits for x milliseconds for a key press on a OpenCV window (i.e. created from cv::imshow()). \n",
    "# Note that it does not listen on stdin for console input. \n",
    "# If a key was pressed during that time, it returns the key's ASCII code. \n",
    "# Otherwise, it returns -1. (If x is zero, it waits indefinitely for the key press.)\n",
    "cv2.imshow('Puppy',img)\n",
    "cv2.waitKey()"
   ]
  }
 ],
 "metadata": {
  "interpreter": {
   "hash": "e7370f93d1d0cde622a1f8e1c04877d8463912d04d973331ad4851f04de6915a"
  },
  "kernelspec": {
   "display_name": "Python 3.8.10 64-bit",
   "name": "python3"
  },
  "language_info": {
   "codemirror_mode": {
    "name": "ipython",
    "version": 3
   },
   "file_extension": ".py",
   "mimetype": "text/x-python",
   "name": "python",
   "nbconvert_exporter": "python",
   "pygments_lexer": "ipython3",
   "version": "3.8.10"
  },
  "orig_nbformat": 4
 },
 "nbformat": 4,
 "nbformat_minor": 2
}
