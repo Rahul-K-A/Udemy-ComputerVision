{
 "cells": [
  {
   "cell_type": "code",
   "execution_count": 13,
   "metadata": {},
   "outputs": [],
   "source": [
    "import cv2\n",
    "import numpy as np\n",
    "import matplotlib.pyplot as plt"
   ]
  },
  {
   "cell_type": "code",
   "execution_count": 14,
   "metadata": {},
   "outputs": [],
   "source": [
    "def CreateRectangle(event,x,y,flags,param):\n",
    "    global img,ix,iy\n",
    "    drawing=False\n",
    "    if event==cv2.EVENT_LBUTTONDOWN:\n",
    "        drawing=True\n",
    "        ix=x\n",
    "        iy=y\n",
    "        cv2.rectangle(img,(ix,iy),(x,y),(255,0,0),thickness=-1)\n",
    "    elif event==cv2.EVENT_MOUSEMOVE:\n",
    "        if drawing==True:\n",
    "            cv2.rectangle(img,(ix,iy),(x,y),(255,0,0),thickness=-1)\n",
    "\n",
    "    elif event==cv2.EVENT_LBUTTONUP:\n",
    "        cv2.rectangle(img,(ix,iy),(x,y),(255,0,0),thickness=-1)\n",
    "        drawing=False\n",
    "\n"
   ]
  },
  {
   "cell_type": "code",
   "execution_count": 15,
   "metadata": {},
   "outputs": [],
   "source": [
    "def main():\n",
    "    global img,ix,iy\n",
    "    ix=-1\n",
    "    iy=-1\n",
    "    img=np.zeros((512,512,3))\n",
    "    cv2.namedWindow(winname='hello_world')\n",
    "    cv2.setMouseCallback('hello_world',CreateRectangle)\n",
    "    while True:\n",
    "        cv2.imshow('hello_world',img)\n",
    "        if cv2.waitKey(40)&0xFF==ord('q'):\n",
    "            break\n",
    "    cv2.destroyAllWindows()"
   ]
  },
  {
   "cell_type": "code",
   "execution_count": 16,
   "metadata": {},
   "outputs": [],
   "source": [
    "main()"
   ]
  }
 ],
 "metadata": {
  "interpreter": {
   "hash": "e7370f93d1d0cde622a1f8e1c04877d8463912d04d973331ad4851f04de6915a"
  },
  "kernelspec": {
   "display_name": "Python 3.8.10 64-bit",
   "language": "python",
   "name": "python3"
  },
  "language_info": {
   "codemirror_mode": {
    "name": "ipython",
    "version": 3
   },
   "file_extension": ".py",
   "mimetype": "text/x-python",
   "name": "python",
   "nbconvert_exporter": "python",
   "pygments_lexer": "ipython3",
   "version": "3.8.10"
  },
  "orig_nbformat": 4
 },
 "nbformat": 4,
 "nbformat_minor": 2
}
